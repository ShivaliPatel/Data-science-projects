{
 "cells": [
  {
   "cell_type": "markdown",
   "metadata": {},
   "source": [
    "# Logistic regression\n",
    "\n",
    "Here, we are going to predict churn customers using logistic regression and then we are going to evaulate our model using different evaluation matrics.\n",
    "\n",
    "### Content\n",
    "1. Loading and cleaning data\n",
    "2. Class Imbalance\n",
    "3. Predicting using logistic regression\n",
    "4. Model evaluation"
   ]
  },
  {
   "cell_type": "markdown",
   "metadata": {},
   "source": [
    "## 1. Load and cleaning data\n",
    "<hr>"
   ]
  },
  {
   "cell_type": "code",
   "execution_count": 476,
   "metadata": {},
   "outputs": [],
   "source": [
    "import pandas as pd\n",
    "import numpy as np\n",
    "from sklearn.utils import shuffle\n",
    "from sklearn.model_selection import train_test_split\n",
    "from sklearn.linear_model import LogisticRegression\n",
    "from sklearn.utils import resample\n",
    "from imblearn.over_sampling import SMOTE\n",
    "from sklearn import metrics\n",
    "import matplotlib.pyplot as plt\n",
    "import seaborn as sns\n",
    "\n",
    "sns.set()\n",
    "%matplotlib inline"
   ]
  },
  {
   "cell_type": "markdown",
   "metadata": {},
   "source": [
    "#### Data importing and preprocessing"
   ]
  },
  {
   "cell_type": "code",
   "execution_count": 477,
   "metadata": {},
   "outputs": [],
   "source": [
    "# load data from file to existing envrionment\n",
    "def load_data(filepath,format='csv'):\n",
    "    if format == 'csv':\n",
    "        return pd.read_csv(filepath)\n",
    "    elif format == 'xlsx':\n",
    "        return pd.read_excel(filepath)"
   ]
  },
  {
   "cell_type": "code",
   "execution_count": 334,
   "metadata": {},
   "outputs": [
    {
     "data": {
      "text/html": [
       "<div>\n",
       "<style scoped>\n",
       "    .dataframe tbody tr th:only-of-type {\n",
       "        vertical-align: middle;\n",
       "    }\n",
       "\n",
       "    .dataframe tbody tr th {\n",
       "        vertical-align: top;\n",
       "    }\n",
       "\n",
       "    .dataframe thead th {\n",
       "        text-align: right;\n",
       "    }\n",
       "</style>\n",
       "<table border=\"1\" class=\"dataframe\">\n",
       "  <thead>\n",
       "    <tr style=\"text-align: right;\">\n",
       "      <th></th>\n",
       "      <th>customerID</th>\n",
       "      <th>gender</th>\n",
       "      <th>SeniorCitizen</th>\n",
       "      <th>Partner</th>\n",
       "      <th>Dependents</th>\n",
       "      <th>tenure</th>\n",
       "      <th>PhoneService</th>\n",
       "      <th>MultipleLines</th>\n",
       "      <th>InternetService</th>\n",
       "      <th>OnlineSecurity</th>\n",
       "      <th>...</th>\n",
       "      <th>DeviceProtection</th>\n",
       "      <th>TechSupport</th>\n",
       "      <th>StreamingTV</th>\n",
       "      <th>StreamingMovies</th>\n",
       "      <th>Contract</th>\n",
       "      <th>PaperlessBilling</th>\n",
       "      <th>PaymentMethod</th>\n",
       "      <th>MonthlyCharges</th>\n",
       "      <th>TotalCharges</th>\n",
       "      <th>Churn</th>\n",
       "    </tr>\n",
       "  </thead>\n",
       "  <tbody>\n",
       "    <tr>\n",
       "      <th>0</th>\n",
       "      <td>7590-VHVEG</td>\n",
       "      <td>Female</td>\n",
       "      <td>0</td>\n",
       "      <td>Yes</td>\n",
       "      <td>No</td>\n",
       "      <td>1</td>\n",
       "      <td>No</td>\n",
       "      <td>No phone service</td>\n",
       "      <td>DSL</td>\n",
       "      <td>No</td>\n",
       "      <td>...</td>\n",
       "      <td>No</td>\n",
       "      <td>No</td>\n",
       "      <td>No</td>\n",
       "      <td>No</td>\n",
       "      <td>Month-to-month</td>\n",
       "      <td>Yes</td>\n",
       "      <td>Electronic check</td>\n",
       "      <td>29.85</td>\n",
       "      <td>29.85</td>\n",
       "      <td>No</td>\n",
       "    </tr>\n",
       "    <tr>\n",
       "      <th>1</th>\n",
       "      <td>5575-GNVDE</td>\n",
       "      <td>Male</td>\n",
       "      <td>0</td>\n",
       "      <td>No</td>\n",
       "      <td>No</td>\n",
       "      <td>34</td>\n",
       "      <td>Yes</td>\n",
       "      <td>No</td>\n",
       "      <td>DSL</td>\n",
       "      <td>Yes</td>\n",
       "      <td>...</td>\n",
       "      <td>Yes</td>\n",
       "      <td>No</td>\n",
       "      <td>No</td>\n",
       "      <td>No</td>\n",
       "      <td>One year</td>\n",
       "      <td>No</td>\n",
       "      <td>Mailed check</td>\n",
       "      <td>56.95</td>\n",
       "      <td>1889.5</td>\n",
       "      <td>No</td>\n",
       "    </tr>\n",
       "    <tr>\n",
       "      <th>2</th>\n",
       "      <td>3668-QPYBK</td>\n",
       "      <td>Male</td>\n",
       "      <td>0</td>\n",
       "      <td>No</td>\n",
       "      <td>No</td>\n",
       "      <td>2</td>\n",
       "      <td>Yes</td>\n",
       "      <td>No</td>\n",
       "      <td>DSL</td>\n",
       "      <td>Yes</td>\n",
       "      <td>...</td>\n",
       "      <td>No</td>\n",
       "      <td>No</td>\n",
       "      <td>No</td>\n",
       "      <td>No</td>\n",
       "      <td>Month-to-month</td>\n",
       "      <td>Yes</td>\n",
       "      <td>Mailed check</td>\n",
       "      <td>53.85</td>\n",
       "      <td>108.15</td>\n",
       "      <td>Yes</td>\n",
       "    </tr>\n",
       "    <tr>\n",
       "      <th>3</th>\n",
       "      <td>7795-CFOCW</td>\n",
       "      <td>Male</td>\n",
       "      <td>0</td>\n",
       "      <td>No</td>\n",
       "      <td>No</td>\n",
       "      <td>45</td>\n",
       "      <td>No</td>\n",
       "      <td>No phone service</td>\n",
       "      <td>DSL</td>\n",
       "      <td>Yes</td>\n",
       "      <td>...</td>\n",
       "      <td>Yes</td>\n",
       "      <td>Yes</td>\n",
       "      <td>No</td>\n",
       "      <td>No</td>\n",
       "      <td>One year</td>\n",
       "      <td>No</td>\n",
       "      <td>Bank transfer (automatic)</td>\n",
       "      <td>42.30</td>\n",
       "      <td>1840.75</td>\n",
       "      <td>No</td>\n",
       "    </tr>\n",
       "    <tr>\n",
       "      <th>4</th>\n",
       "      <td>9237-HQITU</td>\n",
       "      <td>Female</td>\n",
       "      <td>0</td>\n",
       "      <td>No</td>\n",
       "      <td>No</td>\n",
       "      <td>2</td>\n",
       "      <td>Yes</td>\n",
       "      <td>No</td>\n",
       "      <td>Fiber optic</td>\n",
       "      <td>No</td>\n",
       "      <td>...</td>\n",
       "      <td>No</td>\n",
       "      <td>No</td>\n",
       "      <td>No</td>\n",
       "      <td>No</td>\n",
       "      <td>Month-to-month</td>\n",
       "      <td>Yes</td>\n",
       "      <td>Electronic check</td>\n",
       "      <td>70.70</td>\n",
       "      <td>151.65</td>\n",
       "      <td>Yes</td>\n",
       "    </tr>\n",
       "  </tbody>\n",
       "</table>\n",
       "<p>5 rows × 21 columns</p>\n",
       "</div>"
      ],
      "text/plain": [
       "   customerID  gender  SeniorCitizen Partner Dependents  tenure PhoneService  \\\n",
       "0  7590-VHVEG  Female              0     Yes         No       1           No   \n",
       "1  5575-GNVDE    Male              0      No         No      34          Yes   \n",
       "2  3668-QPYBK    Male              0      No         No       2          Yes   \n",
       "3  7795-CFOCW    Male              0      No         No      45           No   \n",
       "4  9237-HQITU  Female              0      No         No       2          Yes   \n",
       "\n",
       "      MultipleLines InternetService OnlineSecurity  ... DeviceProtection  \\\n",
       "0  No phone service             DSL             No  ...               No   \n",
       "1                No             DSL            Yes  ...              Yes   \n",
       "2                No             DSL            Yes  ...               No   \n",
       "3  No phone service             DSL            Yes  ...              Yes   \n",
       "4                No     Fiber optic             No  ...               No   \n",
       "\n",
       "  TechSupport StreamingTV StreamingMovies        Contract PaperlessBilling  \\\n",
       "0          No          No              No  Month-to-month              Yes   \n",
       "1          No          No              No        One year               No   \n",
       "2          No          No              No  Month-to-month              Yes   \n",
       "3         Yes          No              No        One year               No   \n",
       "4          No          No              No  Month-to-month              Yes   \n",
       "\n",
       "               PaymentMethod MonthlyCharges  TotalCharges Churn  \n",
       "0           Electronic check          29.85         29.85    No  \n",
       "1               Mailed check          56.95        1889.5    No  \n",
       "2               Mailed check          53.85        108.15   Yes  \n",
       "3  Bank transfer (automatic)          42.30       1840.75    No  \n",
       "4           Electronic check          70.70        151.65   Yes  \n",
       "\n",
       "[5 rows x 21 columns]"
      ]
     },
     "execution_count": 334,
     "metadata": {},
     "output_type": "execute_result"
    }
   ],
   "source": [
    "df_raw = load_data(\"WA_Fn-UseC_-Telco-Customer-Churn.csv\",\"csv\")\n",
    "df_raw.head()"
   ]
  },
  {
   "cell_type": "code",
   "execution_count": 335,
   "metadata": {
    "collapsed": true
   },
   "outputs": [],
   "source": [
    "# Rename column names and map values for numeric calculation\n",
    "def clean_data(df):\n",
    "    df.rename(columns={'gender':'Gender'\n",
    "                       ,'customerID':'CustomerID'\n",
    "                       ,'Contract':'ContractType'\n",
    "                       ,'InternetService':'InternetServiceType'\n",
    "                       ,'tenure':'Tenure'\n",
    "                      }\n",
    "              ,inplace=True)\n",
    "\n",
    "\n",
    "    df['Partner'] = df.Partner.map({'Yes':1,'No':0})\n",
    "    df['Dependents'] = df.Dependents.map({'Yes':1,'No':0})\n",
    "\n",
    "    df['PhoneService'] = df.PhoneService.map({'Yes':1,'No':0})\n",
    "    df['MultipleLines'] = df.MultipleLines.map({'Yes':1,'No':0,'No phone service':0})\n",
    "\n",
    "    df['InternetService'] = df.InternetServiceType.map({'DSL':1,'Fiber optic':1,'No':0})\n",
    "    df['OnlineSecurity'] = df.OnlineSecurity.map({'Yes':1,'No':0,'No internet service':0})\n",
    "    df['OnlineBackup'] = df.OnlineBackup.map({'Yes':1,'No':0,'No internet service':0})\n",
    "    df['DeviceProtection'] = df.DeviceProtection.map({'Yes':1,'No':0,'No internet service':0})\n",
    "    df['TechSupport'] = df.TechSupport.map({'Yes':1,'No':0,'No internet service':0})\n",
    "    df['StreamingTV'] = df.StreamingTV.map({'Yes':1,'No':0,'No internet service':0})\n",
    "    df['StreamingMovies'] = df.StreamingMovies.map({'Yes':1,'No':0,'No internet service':0})\n",
    "\n",
    "    df['IsContracted'] = df.ContractType.map({'One year':1,'Two year':1,'Month-to-month':0})\n",
    "    df['PaperlessBilling'] = df.PaperlessBilling.map({'Yes':1,'No':0})\n",
    "    df['Churn'] = df.Churn.map({'Yes':1,'No':0})\n",
    "    \n",
    "    df.loc[df['TotalCharges']==' ','TotalCharges'] = np.nan\n",
    "    df['TotalCharges'] = df['TotalCharges'].astype('float64')\n",
    "    df.loc[df['TotalCharges']==np.nan,'TotalCharges'] = df['MonthlyCharges'] * df['Tenure']\n",
    "    \n",
    "    return df"
   ]
  },
  {
   "cell_type": "code",
   "execution_count": 353,
   "metadata": {
    "scrolled": true
   },
   "outputs": [
    {
     "data": {
      "text/html": [
       "<div>\n",
       "<style scoped>\n",
       "    .dataframe tbody tr th:only-of-type {\n",
       "        vertical-align: middle;\n",
       "    }\n",
       "\n",
       "    .dataframe tbody tr th {\n",
       "        vertical-align: top;\n",
       "    }\n",
       "\n",
       "    .dataframe thead th {\n",
       "        text-align: right;\n",
       "    }\n",
       "</style>\n",
       "<table border=\"1\" class=\"dataframe\">\n",
       "  <thead>\n",
       "    <tr style=\"text-align: right;\">\n",
       "      <th></th>\n",
       "      <th>index</th>\n",
       "      <th>CustomerID</th>\n",
       "      <th>Gender</th>\n",
       "      <th>SeniorCitizen</th>\n",
       "      <th>Partner</th>\n",
       "      <th>Dependents</th>\n",
       "      <th>Tenure</th>\n",
       "      <th>PhoneService</th>\n",
       "      <th>MultipleLines</th>\n",
       "      <th>InternetServiceType</th>\n",
       "      <th>...</th>\n",
       "      <th>StreamingTV</th>\n",
       "      <th>StreamingMovies</th>\n",
       "      <th>ContractType</th>\n",
       "      <th>PaperlessBilling</th>\n",
       "      <th>PaymentMethod</th>\n",
       "      <th>MonthlyCharges</th>\n",
       "      <th>TotalCharges</th>\n",
       "      <th>Churn</th>\n",
       "      <th>InternetService</th>\n",
       "      <th>IsContracted</th>\n",
       "    </tr>\n",
       "  </thead>\n",
       "  <tbody>\n",
       "    <tr>\n",
       "      <th>0</th>\n",
       "      <td>3067</td>\n",
       "      <td>7005-CCBKV</td>\n",
       "      <td>Male</td>\n",
       "      <td>0</td>\n",
       "      <td>0</td>\n",
       "      <td>0</td>\n",
       "      <td>6</td>\n",
       "      <td>1</td>\n",
       "      <td>0</td>\n",
       "      <td>Fiber optic</td>\n",
       "      <td>...</td>\n",
       "      <td>0</td>\n",
       "      <td>1</td>\n",
       "      <td>Month-to-month</td>\n",
       "      <td>1</td>\n",
       "      <td>Electronic check</td>\n",
       "      <td>84.40</td>\n",
       "      <td>556.35</td>\n",
       "      <td>1</td>\n",
       "      <td>1</td>\n",
       "      <td>0</td>\n",
       "    </tr>\n",
       "    <tr>\n",
       "      <th>1</th>\n",
       "      <td>1215</td>\n",
       "      <td>9897-KXHCM</td>\n",
       "      <td>Female</td>\n",
       "      <td>0</td>\n",
       "      <td>1</td>\n",
       "      <td>1</td>\n",
       "      <td>3</td>\n",
       "      <td>1</td>\n",
       "      <td>0</td>\n",
       "      <td>Fiber optic</td>\n",
       "      <td>...</td>\n",
       "      <td>0</td>\n",
       "      <td>1</td>\n",
       "      <td>Month-to-month</td>\n",
       "      <td>1</td>\n",
       "      <td>Electronic check</td>\n",
       "      <td>80.30</td>\n",
       "      <td>250.05</td>\n",
       "      <td>1</td>\n",
       "      <td>1</td>\n",
       "      <td>0</td>\n",
       "    </tr>\n",
       "    <tr>\n",
       "      <th>2</th>\n",
       "      <td>2387</td>\n",
       "      <td>6734-GMPVK</td>\n",
       "      <td>Male</td>\n",
       "      <td>0</td>\n",
       "      <td>0</td>\n",
       "      <td>0</td>\n",
       "      <td>5</td>\n",
       "      <td>1</td>\n",
       "      <td>1</td>\n",
       "      <td>Fiber optic</td>\n",
       "      <td>...</td>\n",
       "      <td>1</td>\n",
       "      <td>1</td>\n",
       "      <td>Month-to-month</td>\n",
       "      <td>0</td>\n",
       "      <td>Electronic check</td>\n",
       "      <td>105.30</td>\n",
       "      <td>550.60</td>\n",
       "      <td>0</td>\n",
       "      <td>1</td>\n",
       "      <td>0</td>\n",
       "    </tr>\n",
       "    <tr>\n",
       "      <th>3</th>\n",
       "      <td>1221</td>\n",
       "      <td>3055-MJDSB</td>\n",
       "      <td>Male</td>\n",
       "      <td>0</td>\n",
       "      <td>0</td>\n",
       "      <td>0</td>\n",
       "      <td>9</td>\n",
       "      <td>0</td>\n",
       "      <td>0</td>\n",
       "      <td>DSL</td>\n",
       "      <td>...</td>\n",
       "      <td>0</td>\n",
       "      <td>0</td>\n",
       "      <td>Month-to-month</td>\n",
       "      <td>1</td>\n",
       "      <td>Mailed check</td>\n",
       "      <td>24.60</td>\n",
       "      <td>190.10</td>\n",
       "      <td>0</td>\n",
       "      <td>1</td>\n",
       "      <td>0</td>\n",
       "    </tr>\n",
       "    <tr>\n",
       "      <th>4</th>\n",
       "      <td>1473</td>\n",
       "      <td>7079-QRCBC</td>\n",
       "      <td>Female</td>\n",
       "      <td>0</td>\n",
       "      <td>0</td>\n",
       "      <td>0</td>\n",
       "      <td>24</td>\n",
       "      <td>1</td>\n",
       "      <td>1</td>\n",
       "      <td>Fiber optic</td>\n",
       "      <td>...</td>\n",
       "      <td>1</td>\n",
       "      <td>1</td>\n",
       "      <td>Month-to-month</td>\n",
       "      <td>1</td>\n",
       "      <td>Electronic check</td>\n",
       "      <td>98.75</td>\n",
       "      <td>2407.30</td>\n",
       "      <td>1</td>\n",
       "      <td>1</td>\n",
       "      <td>0</td>\n",
       "    </tr>\n",
       "  </tbody>\n",
       "</table>\n",
       "<p>5 rows × 24 columns</p>\n",
       "</div>"
      ],
      "text/plain": [
       "   index  CustomerID  Gender  SeniorCitizen  Partner  Dependents  Tenure  \\\n",
       "0   3067  7005-CCBKV    Male              0        0           0       6   \n",
       "1   1215  9897-KXHCM  Female              0        1           1       3   \n",
       "2   2387  6734-GMPVK    Male              0        0           0       5   \n",
       "3   1221  3055-MJDSB    Male              0        0           0       9   \n",
       "4   1473  7079-QRCBC  Female              0        0           0      24   \n",
       "\n",
       "   PhoneService  MultipleLines InternetServiceType  ...  StreamingTV  \\\n",
       "0             1              0         Fiber optic  ...            0   \n",
       "1             1              0         Fiber optic  ...            0   \n",
       "2             1              1         Fiber optic  ...            1   \n",
       "3             0              0                 DSL  ...            0   \n",
       "4             1              1         Fiber optic  ...            1   \n",
       "\n",
       "   StreamingMovies    ContractType  PaperlessBilling     PaymentMethod  \\\n",
       "0                1  Month-to-month                 1  Electronic check   \n",
       "1                1  Month-to-month                 1  Electronic check   \n",
       "2                1  Month-to-month                 0  Electronic check   \n",
       "3                0  Month-to-month                 1      Mailed check   \n",
       "4                1  Month-to-month                 1  Electronic check   \n",
       "\n",
       "   MonthlyCharges TotalCharges  Churn InternetService  IsContracted  \n",
       "0           84.40       556.35      1               1             0  \n",
       "1           80.30       250.05      1               1             0  \n",
       "2          105.30       550.60      0               1             0  \n",
       "3           24.60       190.10      0               1             0  \n",
       "4           98.75      2407.30      1               1             0  \n",
       "\n",
       "[5 rows x 24 columns]"
      ]
     },
     "execution_count": 353,
     "metadata": {},
     "output_type": "execute_result"
    }
   ],
   "source": [
    "# clean, shuffle and reindexing traing data set -- shuffling may improve cross validation accuracy\n",
    "clean_df = shuffle(clean_data(df_raw.copy())).reset_index()\n",
    "clean_df.head()"
   ]
  },
  {
   "cell_type": "code",
   "execution_count": 337,
   "metadata": {},
   "outputs": [],
   "source": [
    "# define variables\n",
    "\n",
    "categorical_vars = ['Gender','InternetServiceType','PaymentMethod','ContractType']\n",
    "binary_vars = ['SeniorCitizen','Partner','Dependents','PhoneService','MultipleLines','OnlineSecurity','OnlineBackup'\n",
    "               ,'DeviceProtection','TechSupport','StreamingTV', 'StreamingMovies','PaperlessBilling','InternetService'\n",
    "               , 'IsContracted']\n",
    "numeric_vars = ['Tenure','MonthlyCharges']\n",
    "target_var = 'Churn'"
   ]
  },
  {
   "cell_type": "code",
   "execution_count": 338,
   "metadata": {
    "collapsed": true
   },
   "outputs": [],
   "source": [
    "# encode categorical data to numeric using One-hot encoding method\n",
    "def one_hot_encoding_features_df(df, cat_feat):\n",
    "    cat_df = pd.get_dummies(df[cat_feat])\n",
    "    return cat_df\n"
   ]
  },
  {
   "cell_type": "code",
   "execution_count": 339,
   "metadata": {
    "collapsed": true
   },
   "outputs": [],
   "source": [
    "# merge categorical, numerical, and binary data\n",
    "def merge_df(categorical,binary,numerical):\n",
    "    return pd.concat([categorical,binary,numerical],axis = 1)\n"
   ]
  },
  {
   "cell_type": "code",
   "execution_count": 340,
   "metadata": {},
   "outputs": [],
   "source": [
    "feature_df = merge_df(one_hot_encoding_features_df(clean_df,categorical_vars), clean_df[binary_vars] ,clean_df[numeric_vars])\n",
    "target_df = clean_df[target_var]"
   ]
  },
  {
   "cell_type": "code",
   "execution_count": 400,
   "metadata": {},
   "outputs": [],
   "source": [
    "def train_test_split_fn(feature, target , test_size=None, random_state=0):\n",
    "    return train_test_split(feature, target, test_size = test_size,random_state = random_state )"
   ]
  },
  {
   "cell_type": "code",
   "execution_count": 401,
   "metadata": {},
   "outputs": [],
   "source": [
    "x_train, x_test, y_train , y_test = train_test_split_fn(feature_df,target_df,test_size=0.2)"
   ]
  },
  {
   "cell_type": "markdown",
   "metadata": {},
   "source": [
    "## 2. Class Imbalance\n",
    "\n",
    "<hr>\n"
   ]
  },
  {
   "cell_type": "code",
   "execution_count": 391,
   "metadata": {},
   "outputs": [
    {
     "data": {
      "text/plain": [
       "0    0.73463\n",
       "1    0.26537\n",
       "Name: Churn, dtype: float64"
      ]
     },
     "execution_count": 391,
     "metadata": {},
     "output_type": "execute_result"
    }
   ],
   "source": [
    "clean_df.Churn.value_counts(normalize=True)"
   ]
  },
  {
   "cell_type": "code",
   "execution_count": 397,
   "metadata": {},
   "outputs": [
    {
     "data": {
      "text/plain": [
       "Text(0.5,1,'Distribution of churn subs')"
      ]
     },
     "execution_count": 397,
     "metadata": {},
     "output_type": "execute_result"
    },
    {
     "data": {
      "image/png": "[encoded data removed]",
      "text/plain": [
       "<matplotlib.figure.Figure at 0x265a1611cf8>"
      ]
     },
     "metadata": {},
     "output_type": "display_data"
    }
   ],
   "source": [
    "plt.figure(figsize=(12,8))\n",
    "churn_cnt = clean_df.Churn.value_counts()\n",
    "sns.barplot(x=churn_cnt.index, y=churn_cnt.values, alpha=0.6)\n",
    "plt.xlabel(\"Churn\",fontsize=15)\n",
    "plt.ylabel(\"Counts\",fontsize=15)\n",
    "plt.title(\"Distribution of churn subs\",fontsize=15)"
   ]
  },
  {
   "cell_type": "markdown",
   "metadata": {},
   "source": [
    "### How to treat imbalanced datasets\n",
    "\n",
    "1. Oversampling - Balance it out by adding more under sample data\n",
    "2. Undersampling - Balance it out by removing over sample data\n",
    "\n",
    "\n",
    "#### Methods\n",
    "\n",
    "- Resample \n",
    "    - Up sampling - You randomly resample minority class to create new data\n",
    "    - Down sampling - You randomly resample majority class to remove some data  \n",
    "- SMOTE\n",
    "    - You use nearest neighbors of the minority class to create new synthetic data"
   ]
  },
  {
   "cell_type": "code",
   "execution_count": 422,
   "metadata": {},
   "outputs": [
    {
     "name": "stdout",
     "output_type": "stream",
     "text": [
      "original shape:  (5634, 28)\n",
      "Upsampling using resample:  (8278, 28)\n",
      "Upsampling using SMOTE:  (8278, 28)\n",
      "Downsampling using resample:  (2990, 28)\n"
     ]
    },
    {
     "name": "stderr",
     "output_type": "stream",
     "text": [
      "D:\\anaconda3\\lib\\site-packages\\sklearn\\utils\\deprecation.py:77: DeprecationWarning: Function _ratio_float is deprecated; Use a float for 'ratio' is deprecated from version 0.2. The support will be removed in 0.4. Use a dict, str, or a callable instead.\n",
      "  warnings.warn(msg, category=DeprecationWarning)\n"
     ]
    }
   ],
   "source": [
    "# Upsampling using minority class\n",
    "\n",
    "x_train_us , y_train_us = resample(x_train[y_train == 1]\n",
    "                                  ,y_train[y_train == 1]\n",
    "                                  , replace = True  \n",
    "                                  , n_samples = x_train[y_train == 0].shape[0]\n",
    "                                  , random_state = 1)\n",
    "\n",
    "x_train_us = pd.concat([x_train_us, x_train[y_train == 0]], axis = 0)\n",
    "y_train_us = pd.concat([y_train_us, y_train[y_train == 0]], axis = 0)\n",
    "\n",
    "#Upsampling using SMOTE\n",
    "sm = SMOTE(random_state = 12, ratio = 1.0)\n",
    "x_train_sm , y_train_sm = sm.fit_sample(x_train,y_train)\n",
    "\n",
    "\n",
    "# Downsampling using majority class\n",
    "x_train_ds , y_train_ds = resample(x_train[y_train == 0]\n",
    "                                   , y_train[y_train == 0]\n",
    "                                   , replace=True\n",
    "                                   , n_samples = x_train[y_train == 1].shape[0]\n",
    "                                   , random_state = 1)\n",
    "\n",
    "x_train_ds = pd.concat([x_train_ds, x_train[y_train == 1]], axis = 0)\n",
    "y_train_ds = pd.concat([y_train_ds, y_train[y_train == 1]], axis = 0)\n",
    "\n",
    "\n",
    "print(\"original shape: \",x_train.shape)\n",
    "print(\"Upsampling using resample: \", x_train_us.shape)\n",
    "print(\"Upsampling using SMOTE: \", x_train_sm.shape)\n",
    "print(\"Downsampling using resample: \",x_train_ds.shape)"
   ]
  },
  {
   "cell_type": "code",
   "execution_count": 433,
   "metadata": {},
   "outputs": [
    {
     "name": "stdout",
     "output_type": "stream",
     "text": [
      "original  :  0.6022692770004873\n",
      "Upsampled  :  0.7731396233502524\n",
      "SMOTE  :  0.7779298713200085\n",
      "Downsampled  :  0.7778095500934545\n",
      "Original data with balanced characteristic in logistic model  :  0.6312931990230964\n"
     ]
    }
   ],
   "source": [
    "samples = {'original': (x_train, y_train)\n",
    "          , 'Upsampled': (x_train_us, y_train_us)\n",
    "          , 'SMOTE': (x_train_sm, y_train_sm)\n",
    "          , 'Downsampled': (x_train_ds, y_train_ds)}\n",
    "\n",
    "for sample in samples:\n",
    "    scores = cross_val_score(LogisticRegression(),samples[sample][0], samples[sample][1], cv=5 , scoring = 'f1')\n",
    "    print(sample, \" : \", scores.mean())\n",
    "    \n",
    "    \n",
    "scores = cross_val_score(LogisticRegression(class_weight='balanced'),x_train, y_train, cv=5 , scoring = 'f1')\n",
    "print(\"Original data with balanced characteristic in logistic model  : \", scores.mean())"
   ]
  },
  {
   "cell_type": "markdown",
   "metadata": {},
   "source": [
    "## 3. Predicting using Logistic regression\n",
    "\n",
    "<hr>"
   ]
  },
  {
   "cell_type": "code",
   "execution_count": 467,
   "metadata": {},
   "outputs": [
    {
     "data": {
      "text/plain": [
       "LogisticRegression(C=1.0, class_weight='balanced', dual=False,\n",
       "          fit_intercept=True, intercept_scaling=1, max_iter=100,\n",
       "          multi_class='ovr', n_jobs=1, penalty='l2', random_state=42,\n",
       "          solver='liblinear', tol=0.0001, verbose=0, warm_start=False)"
      ]
     },
     "execution_count": 467,
     "metadata": {},
     "output_type": "execute_result"
    }
   ],
   "source": [
    "lg_model = LogisticRegression(class_weight='balanced',random_state=42)\n",
    "lg_model.fit(x_train_sm,y_train_sm)"
   ]
  },
  {
   "cell_type": "markdown",
   "metadata": {},
   "source": [
    "### Calcuate Hard and Soft prediction\n",
    "\n",
    "\n",
    "    Hard prediction: Using predict() method. Predict 0 or 1\n",
    "    Soft prediction: Using predict_proba() method. Predict value between 0 and 1"
   ]
  },
  {
   "cell_type": "code",
   "execution_count": 468,
   "metadata": {},
   "outputs": [
    {
     "name": "stdout",
     "output_type": "stream",
     "text": [
      "Hard predict: \n",
      " [1 0 1 1 0 0 0 1 0 1]\n"
     ]
    }
   ],
   "source": [
    "print(\"Hard predict: \\n\", lg_model.predict(x_test)[:10])"
   ]
  },
  {
   "cell_type": "markdown",
   "metadata": {},
   "source": [
    "In soft prediction\n",
    "\n",
    "First column predict probability of class - **Not chrun customer**<br>\n",
    "Second column predict probability of class - **Chrun customer**"
   ]
  },
  {
   "cell_type": "code",
   "execution_count": 469,
   "metadata": {},
   "outputs": [
    {
     "name": "stdout",
     "output_type": "stream",
     "text": [
      "Soft predict: \n",
      " [[0.17048582 0.82951418]\n",
      " [0.845022   0.154978  ]\n",
      " [0.49426963 0.50573037]\n",
      " [0.12854773 0.87145227]\n",
      " [0.92897012 0.07102988]\n",
      " [0.92548587 0.07451413]\n",
      " [0.9184792  0.0815208 ]\n",
      " [0.15741718 0.84258282]\n",
      " [0.93634131 0.06365869]\n",
      " [0.34261488 0.65738512]]\n"
     ]
    }
   ],
   "source": [
    "print(\"Soft predict: \\n\", lg_model.predict_proba(x_test)[:10])"
   ]
  },
  {
   "cell_type": "markdown",
   "metadata": {},
   "source": [
    "## 4. Model evaluation\n",
    "\n",
    "<hr>"
   ]
  },
  {
   "cell_type": "markdown",
   "metadata": {},
   "source": [
    "### Confusion Matrix\n",
    "\n",
    "- **True positive (TP) : Your prediction that customer churn and s/he is**\n",
    "- **True negative (TN) : Your prediction that customer churn is not chrun and s/he is not**\n",
    "- **False positive (FP): Your prediction that customer is churn and s/he is not**\n",
    "- **False negative (FN): Your prediction that curstomer is not churn and s/he is**\n",
    "\n",
    "\n",
    "<img src='confusion_matrix.png'></img>\n",
    "\n",
    "### Classification report\n",
    "\n",
    "- **Precision** : TP / (TP + FP)\n",
    "    - Focus on your prediction\n",
    "    - Measure what fraction of your positive class are valid \n",
    "    \n",
    "\n",
    "- **Recall** : TP / (TP + FN) \n",
    "    - Focus on your all positive class\n",
    "    - How often your predictions actually capture the positive class\n",
    "    - Also called **Sensitivity or TPR**\n",
    "    \n",
    "    \n",
    "- **F1 score**: Tells you the accuracy of the classifier\n",
    "    - It calculate using combination of precision and recall. \n",
    "  \n",
    "  \n",
    "- **Support** : Number of samples of the true response that lies in that class\n",
    "\n",
    "\n",
    "\n",
    "### Recall or Precision ??\n",
    "\n",
    "    When want to reduce false negative => Optimize Recall (improve TPR)\n",
    "        Example : Fraud detection\n",
    "        \n",
    "    When want to reduce false positive => Optimize Precision\n",
    "        Example : Spam vs Non-spam\n",
    "\n",
    "In our case, we need to **reduce false negative**, because we do not want to miss customers who are going to be churn. So we need to improve **Recall**."
   ]
  },
  {
   "cell_type": "code",
   "execution_count": 470,
   "metadata": {},
   "outputs": [
    {
     "data": {
      "text/plain": [
       "array([[771, 264],\n",
       "       [ 88, 286]], dtype=int64)"
      ]
     },
     "execution_count": 470,
     "metadata": {},
     "output_type": "execute_result"
    }
   ],
   "source": [
    "lg_predicted = lg_model.predict(x_test)\n",
    "\n",
    "# Confusion matrix\n",
    "metrics.confusion_matrix(y_test,lg_predicted)\n",
    "\n",
    "## TN , FP \n",
    "## FN , TP"
   ]
  },
  {
   "cell_type": "code",
   "execution_count": 471,
   "metadata": {},
   "outputs": [
    {
     "name": "stdout",
     "output_type": "stream",
     "text": [
      "             precision    recall  f1-score   support\n",
      "\n",
      "          0       0.90      0.74      0.81      1035\n",
      "          1       0.52      0.76      0.62       374\n",
      "\n",
      "avg / total       0.80      0.75      0.76      1409\n",
      "\n"
     ]
    }
   ],
   "source": [
    "# Classification report\n",
    "\n",
    "print(metrics.classification_report(y_test,lg_predicted))"
   ]
  },
  {
   "cell_type": "markdown",
   "metadata": {},
   "source": [
    "AUROC (Area under then Receiver Operting Characteristics) is 75%, means 75% of the chances that our model is able to distinguish between positive class and negative class."
   ]
  },
  {
   "cell_type": "code",
   "execution_count": 475,
   "metadata": {},
   "outputs": [
    {
     "name": "stdout",
     "output_type": "stream",
     "text": [
      "ROC AUC score:  0.7548167092924126\n"
     ]
    }
   ],
   "source": [
    "print(\"ROC AUC score: \",metrics.roc_auc_score(y_test, lg_predicted))"
   ]
  },
  {
   "cell_type": "code",
   "execution_count": 474,
   "metadata": {},
   "outputs": [
    {
     "data": {
      "text/plain": [
       "<matplotlib.legend.Legend at 0x265a4194d68>"
      ]
     },
     "execution_count": 474,
     "metadata": {},
     "output_type": "execute_result"
    },
    {
     "data": {
      "image/png": "[encoded data removed]",
      "text/plain": [
       "<matplotlib.figure.Figure at 0x265a1b059e8>"
      ]
     },
     "metadata": {},
     "output_type": "display_data"
    }
   ],
   "source": [
    "# ROC curve\n",
    "\n",
    "fpr, tpr, thresold = metrics.roc_curve(y_test, lg_model.predict_proba(x_test)[:][:,1])\n",
    "\n",
    "plt.plot(fpr,tpr , label = 'Logistic regression (area: %0.2f)' % metrics.roc_auc_score(y_test, lg_predicted))\n",
    "plt.plot([0,1],[0,1],label = 'Base rate')\n",
    "plt.xlabel(\"False postive rate\")\n",
    "plt.ylabel(\"True postive rate\")\n",
    "plt.title(\"ROC curve\")\n",
    "plt.legend()"
   ]
  },
  {
   "cell_type": "markdown",
   "metadata": {},
   "source": [
    "## **Optimization**\n",
    "\n",
    "Here, we tried to predict churn customers using **logistic regression with 75% of the AUROC score**.  However, We want our machine learning model to capture as much of the Churn customers as possible.\n",
    "\n",
    "Let's try to solve this issue using **Random forest** and **Gradiant Boosting Classifier** model and compared with Logistic regression. Also, let's cross check the features that we explored during EDA process are same as the Random forest will suggest to predict Churn customers.\n"
   ]
  }
 ],
 "metadata": {
  "kernelspec": {
   "display_name": "Python 3",
   "language": "python",
   "name": "python3"
  },
  "language_info": {
   "codemirror_mode": {
    "name": "ipython",
    "version": 3
   },
   "file_extension": ".py",
   "mimetype": "text/x-python",
   "name": "python",
   "nbconvert_exporter": "python",
   "pygments_lexer": "ipython3",
   "version": "3.6.3"
  }
 },
 "nbformat": 4,
 "nbformat_minor": 2
}
